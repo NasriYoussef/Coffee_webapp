{
 "cells": [
  {
   "cell_type": "code",
   "execution_count": 1,
   "id": "c4d971c0",
   "metadata": {},
   "outputs": [],
   "source": [
    "import ipywidgets as widgets\n",
    "from IPython.display import display, clear_output"
   ]
  },
  {
   "cell_type": "code",
   "execution_count": 10,
   "id": "804a3697",
   "metadata": {},
   "outputs": [],
   "source": [
    "#!jupyter nbextension enable --py widgetsnbextension --sys-prefix\n",
    "#!jupyter serverextension enable voila --sys-prefix"
   ]
  },
  {
   "cell_type": "code",
   "execution_count": 2,
   "id": "1b9a7067",
   "metadata": {},
   "outputs": [],
   "source": [
    "grand = widgets.ToggleButtons(\n",
    "            options=['grandson', 'granddaughter']\n",
    "        )"
   ]
  },
  {
   "cell_type": "code",
   "execution_count": 3,
   "id": "932f97b4",
   "metadata": {},
   "outputs": [],
   "source": [
    "name = widgets.Text(placeholder='Your name here')"
   ]
  },
  {
   "cell_type": "code",
   "execution_count": 16,
   "id": "751e31df",
   "metadata": {},
   "outputs": [],
   "source": [
    "friends = widgets.IntSlider(\n",
    "            value=3, \n",
    "            min=0, \n",
    "            max=10,\n",
    "            step=1,\n",
    "            style={'description_width': 'initial'} \n",
    "          )"
   ]
  },
  {
   "cell_type": "code",
   "execution_count": 32,
   "id": "9624b881",
   "metadata": {},
   "outputs": [],
   "source": [
    "button_send = widgets.Button(\n",
    "                description='Send to grandma',\n",
    "                tooltip='Send',\n",
    "                style={'description_width': 'initial'}\n",
    "            )\n",
    "output = widgets.Output()\n",
    "def on_button_clicked(event):\n",
    "    with output:\n",
    "        clear_output()\n",
    "        print(\"Sent message: \")\n",
    "        print(f\"Dear Grandma! This is your favourite {grand.value}, {name.value}.\")\n",
    "        print(f\"Also, if you don't mind, I'll bring along {friends.value} hungry ghosts for your delicious food!\")\n",
    "button_send.on_click(on_button_clicked)\n",
    "vbox_result = widgets.VBox([grand,name,friends,button_send, output])"
   ]
  },
  {
   "cell_type": "code",
   "execution_count": 33,
   "id": "146e21a4",
   "metadata": {},
   "outputs": [
    {
     "data": {
      "text/plain": [
       "10"
      ]
     },
     "execution_count": 33,
     "metadata": {},
     "output_type": "execute_result"
    }
   ],
   "source": [
    "grand.value\n",
    "name.value\n",
    "friends.value"
   ]
  },
  {
   "cell_type": "code",
   "execution_count": 34,
   "id": "b6ece38e",
   "metadata": {},
   "outputs": [],
   "source": [
    "out = widgets.Output(layout={'border': '1px solid black'})"
   ]
  },
  {
   "cell_type": "code",
   "execution_count": 35,
   "id": "08703cc0",
   "metadata": {},
   "outputs": [
    {
     "data": {
      "application/vnd.jupyter.widget-view+json": {
       "model_id": "ba17c12101af4dde9c3aaf22e00194c9",
       "version_major": 2,
       "version_minor": 0
      },
      "text/plain": [
       "Output(layout=Layout(border='1px solid black'))"
      ]
     },
     "metadata": {},
     "output_type": "display_data"
    }
   ],
   "source": [
    "out"
   ]
  },
  {
   "cell_type": "code",
   "execution_count": 37,
   "id": "d7a68824",
   "metadata": {},
   "outputs": [],
   "source": [
    "with out:\n",
    "    display(vbox_result)"
   ]
  },
  {
   "cell_type": "code",
   "execution_count": null,
   "id": "e0760be9",
   "metadata": {},
   "outputs": [],
   "source": []
  }
 ],
 "metadata": {
  "kernelspec": {
   "display_name": "Python 3 (ipykernel)",
   "language": "python",
   "name": "python3"
  },
  "language_info": {
   "codemirror_mode": {
    "name": "ipython",
    "version": 3
   },
   "file_extension": ".py",
   "mimetype": "text/x-python",
   "name": "python",
   "nbconvert_exporter": "python",
   "pygments_lexer": "ipython3",
   "version": "3.9.7"
  }
 },
 "nbformat": 4,
 "nbformat_minor": 5
}
